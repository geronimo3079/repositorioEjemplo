{
  "nbformat": 4,
  "nbformat_minor": 0,
  "metadata": {
    "colab": {
      "provenance": [],
      "authorship_tag": "ABX9TyNnD0/fFoIvFtCM3Uw6rjti",
      "include_colab_link": true
    },
    "kernelspec": {
      "name": "python3",
      "display_name": "Python 3"
    },
    "language_info": {
      "name": "python"
    }
  },
  "cells": [
    {
      "cell_type": "markdown",
      "metadata": {
        "id": "view-in-github",
        "colab_type": "text"
      },
      "source": [
        "<a href=\"https://colab.research.google.com/github/geronimo3079/repositorioEjemplo/blob/main/investigacion_de_operaciones.ipynb\" target=\"_parent\"><img src=\"https://colab.research.google.com/assets/colab-badge.svg\" alt=\"Open In Colab\"/></a>"
      ]
    },
    {
      "cell_type": "markdown",
      "source": [
        "# ejercicios investigaciòn de operaciones 1"
      ],
      "metadata": {
        "id": "a_0PKBu44wuo"
      }
    },
    {
      "cell_type": "markdown",
      "source": [
        "##ejercicio1"
      ],
      "metadata": {
        "id": "VZHCzMQg35kw"
      }
    },
    {
      "cell_type": "code",
      "execution_count": 1,
      "metadata": {
        "colab": {
          "base_uri": "https://localhost:8080/"
        },
        "id": "IvGk3ey72DBV",
        "outputId": "076667e0-cf25-42fc-ae26-e1784a267e05"
      },
      "outputs": [
        {
          "output_type": "stream",
          "name": "stdout",
          "text": [
            "hola mundo\n"
          ]
        }
      ],
      "source": [
        "print(\"a mundo\")"
      ]
    },
    {
      "cell_type": "markdown",
      "source": [
        "ejercicio 2"
      ],
      "metadata": {
        "id": "lnOwrbng3qdo"
      }
    },
    {
      "cell_type": "code",
      "source": [
        "print(\"a, Gerònimo\")"
      ],
      "metadata": {
        "id": "AZFF7nGK4V9H"
      },
      "execution_count": null,
      "outputs": []
    }
  ]
}